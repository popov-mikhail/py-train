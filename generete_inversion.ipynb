{
 "cells": [
  {
   "cell_type": "code",
   "execution_count": 5,
   "metadata": {},
   "outputs": [
    {
     "name": "stdout",
     "output_type": "stream",
     "text": [
      "n: 10\n",
      "sum: 0\n",
      "x: 9\n",
      "after all\n",
      "n: 10\n",
      "sum: 45\n",
      "x: 0\n"
     ]
    }
   ],
   "source": [
    "n = 10\n",
    "sum = 0\n",
    "x = n - 1\n",
    "print('n:', n)\n",
    "print('sum:', sum)\n",
    "print('x:', x)\n",
    "while (x != 0):\n",
    "    sum = sum + x\n",
    "    x = x - 1\n",
    "print('after all')\n",
    "print('n:', n)\n",
    "print('sum:', sum)\n",
    "print('x:', x)  "
   ]
  },
  {
   "cell_type": "code",
   "execution_count": 18,
   "metadata": {},
   "outputs": [
    {
     "name": "stdout",
     "output_type": "stream",
     "text": [
      "6\n",
      "[0, 0, 0, 6, 0, 0, 0, 0, 0, 0, 0, 0, 0, 0, 0, 0, 0, 0, 0, 0, 0, 0, 0, 0, 0, 0, 0, 0, 0, 0, 0, 0, 0, 0, 0, 0, 0, 0, 0, 0, 0, 0, 0, 0, 0, 0, 0, 0, 0, 0, 0, 0, 0, 0, 0, 0, 0, 0, 0, 0, 0, 0, 0, 0, 0, 0, 0, 0, 0, 0, 0, 0, 0, 0, 0, 0, 0, 0, 0, 0, 0, 0, 0, 0, 0, 0, 0, 0, 0, 0, 0, 0, 0, 0, 0, 0, 0, 0, 0, 0]\n"
     ]
    }
   ],
   "source": [
    "#Python3 program to find number of permutation \n",
    "# with K inversion using Memoization \n",
    "  \n",
    "# Limit on N and K \n",
    "M = 100\n",
    "  \n",
    "# 2D array memo for stopping   \n",
    "# solving same problem again \n",
    "memo = [[0 for i in range(M)] for j in range(M)] \n",
    "\n",
    "# method recursively calculates  \n",
    "# permutation with K inversion \n",
    "def numberOfPermWithKInversion(N, K): \n",
    "  \n",
    "    # Base cases \n",
    "    if (N == 0): return 0\n",
    "    if (K == 0): return 1\n",
    "  \n",
    "    # If already solved then \n",
    "    # return result directly \n",
    "    if (memo[N][K] != 0): \n",
    "        return memo[N][K] \n",
    "  \n",
    "    # Calling recursively all subproblem  \n",
    "    # of permutation size N - 1 \n",
    "    sum = 0\n",
    "    for i in range(K + 1): \n",
    "      \n",
    "        # Call recursively only if \n",
    "        # total inversion to be made \n",
    "        # are less than size \n",
    "        if (i <= N - 1): \n",
    "            sum += numberOfPermWithKInversion(N - 1, K - i) \n",
    "      \n",
    "    # store result into memo \n",
    "    memo[N][K] = sum\n",
    "  \n",
    "    return sum\n",
    "  \n",
    "# Driver code \n",
    "N = 4; K =3\n",
    "\n",
    "print(numberOfPermWithKInversion(N, K)) \n",
    "print(memo[N])\n",
    "# This code is contributed by Anant Agarwal. "
   ]
  }
 ],
 "metadata": {
  "kernelspec": {
   "display_name": "Python 3",
   "language": "python",
   "name": "python3"
  },
  "language_info": {
   "codemirror_mode": {
    "name": "ipython",
    "version": 3
   },
   "file_extension": ".py",
   "mimetype": "text/x-python",
   "name": "python",
   "nbconvert_exporter": "python",
   "pygments_lexer": "ipython3",
   "version": "3.6.5"
  }
 },
 "nbformat": 4,
 "nbformat_minor": 2
}
