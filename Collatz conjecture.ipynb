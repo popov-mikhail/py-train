{
 "cells": [
  {
   "cell_type": "markdown",
   "metadata": {},
   "source": [
    "Напишите функцию, которая для заданного натурального числа n генерирует последовательность чисел, описанную в гипотезе Коллатца:\n",
    "\n",
    "Если n четное, то делим его пополам, если нечётное, то умножаем на 3 и прибавляем 1. С итогом вычисления снова проделываем эту операцию до тех пор, пока в результате не будет получено число 1.\n",
    "\n",
    "Например, для числа n = 17 последовательность вычислений выглядит следующим образом:\n",
    "17, 52, 26, 13, 40, 20, 10, 5, 16, 8, 4, 2, 1\n",
    "\n",
    "Предполагается, что подобная последовательность остановится на числе 1 для любого начального натурального числа n. \n",
    "\n",
    "Формат ввода:\n",
    "Строка, содержащая единственное целое число nn, n>0n>0.\n",
    "\n",
    "Формат вывода:\n",
    "Строка, содержащая последовательность целых чисел, разделённых пробелом."
   ]
  },
  {
   "cell_type": "code",
   "execution_count": 24,
   "metadata": {},
   "outputs": [
    {
     "name": "stdout",
     "output_type": "stream",
     "text": [
      "26\n"
     ]
    }
   ],
   "source": [
    "x = int(input())\n",
    "s = str(x)\n",
    "x1 = x\n",
    "s = str(x)\n",
    "while (x != 1):\n",
    "    s = s + ' '\n",
    "    if (x % 2 == 0): x1 = x / 2\n",
    "    else: x1 = x*3 + 1\n",
    "    x = int(x1)\n",
    "    s = s + str(x)"
   ]
  },
  {
   "cell_type": "code",
   "execution_count": 25,
   "metadata": {},
   "outputs": [
    {
     "name": "stdout",
     "output_type": "stream",
     "text": [
      "26 13 40 20 10 5 16 8 4 2 1\n"
     ]
    }
   ],
   "source": [
    "print(s)"
   ]
  }
 ],
 "metadata": {
  "kernelspec": {
   "display_name": "Python 3",
   "language": "python",
   "name": "python3"
  },
  "language_info": {
   "codemirror_mode": {
    "name": "ipython",
    "version": 3
   },
   "file_extension": ".py",
   "mimetype": "text/x-python",
   "name": "python",
   "nbconvert_exporter": "python",
   "pygments_lexer": "ipython3",
   "version": "3.6.5"
  }
 },
 "nbformat": 4,
 "nbformat_minor": 2
}
