{
 "cells": [
  {
   "cell_type": "code",
   "execution_count": 13,
   "metadata": {
    "scrolled": true
   },
   "outputs": [
    {
     "name": "stdout",
     "output_type": "stream",
     "text": [
      "He2lo how are you? I wi2l ki4l 12u\n"
     ]
    }
   ],
   "source": [
    "#He2lo how are you? I wi2l ki4l u\n",
    "s = input()"
   ]
  },
  {
   "cell_type": "code",
   "execution_count": 49,
   "metadata": {},
   "outputs": [],
   "source": [
    "s = 'He2lo how are you? I wi2l ki4l 12u'\n",
    "#s = '100a'"
   ]
  },
  {
   "cell_type": "code",
   "execution_count": 27,
   "metadata": {},
   "outputs": [
    {
     "data": {
      "text/plain": [
       "[2, 2, 4, 1, 2]"
      ]
     },
     "execution_count": 27,
     "metadata": {},
     "output_type": "execute_result"
    }
   ],
   "source": [
    "[int(s1) for s1 in s if s1.isdigit()]"
   ]
  },
  {
   "cell_type": "code",
   "execution_count": 26,
   "metadata": {},
   "outputs": [
    {
     "data": {
      "text/plain": [
       "[23, 11, 2]"
      ]
     },
     "execution_count": 26,
     "metadata": {},
     "output_type": "execute_result"
    }
   ],
   "source": [
    "str = \"h3110 23 cat 444.4 rabbit 11 2 dog\"\n",
    "[int(s) for s in str.split() if s.isdigit()]"
   ]
  },
  {
   "cell_type": "code",
   "execution_count": 50,
   "metadata": {},
   "outputs": [
    {
     "name": "stdout",
     "output_type": "stream",
     "text": [
      "ans \n",
      "H\n",
      "He\n",
      "Hell\n",
      "Hello\n",
      "Hello \n",
      "Hello h\n",
      "Hello ho\n",
      "Hello how\n",
      "Hello how \n",
      "Hello how a\n",
      "Hello how ar\n",
      "Hello how are\n",
      "Hello how are \n",
      "Hello how are y\n",
      "Hello how are yo\n",
      "Hello how are you\n",
      "Hello how are you?\n",
      "Hello how are you? \n",
      "Hello how are you? I\n",
      "Hello how are you? I \n",
      "Hello how are you? I w\n",
      "Hello how are you? I wi\n",
      "Hello how are you? I will\n",
      "Hello how are you? I will \n",
      "Hello how are you? I will k\n",
      "Hello how are you? I will ki\n",
      "Hello how are you? I will killll\n",
      "Hello how are you? I will killll \n",
      "Hello how are you? I will killll uuuuuuuuuuuu\n",
      "Hello how are you? I will killll uuuuuuuuuuuu\n"
     ]
    }
   ],
   "source": [
    "k = 0\n",
    "ans = ''\n",
    "print('ans', ans)\n",
    "prev_dig = False\n",
    "for i in range(len(s)):\n",
    "    if s[i].isdigit(): \n",
    "        prev_dig = True\n",
    "        k = k * 10 + int(s[i])\n",
    "    else: \n",
    "        if (s[i].isdigit() == False and prev_dig == True): \n",
    "            ans = ans + k * s[i] \n",
    "            prev_dig = False\n",
    "            k = 0\n",
    "        else: \n",
    "            ans = ans + s[i]\n",
    "        print(ans)\n",
    "print(ans)"
   ]
  }
 ],
 "metadata": {
  "kernelspec": {
   "display_name": "Python 3",
   "language": "python",
   "name": "python3"
  },
  "language_info": {
   "codemirror_mode": {
    "name": "ipython",
    "version": 3
   },
   "file_extension": ".py",
   "mimetype": "text/x-python",
   "name": "python",
   "nbconvert_exporter": "python",
   "pygments_lexer": "ipython3",
   "version": "3.6.5"
  }
 },
 "nbformat": 4,
 "nbformat_minor": 2
}
