{
 "cells": [
  {
   "cell_type": "markdown",
   "metadata": {},
   "source": [
    "Напишите простой интерпретатор математического выражения.\n",
    "\n",
    "На вход подаётся строка с выражением, состоящим из двух чисел, объединённых бинарным оператором: a operator ba operator b, где вместо operatoroperator могут использоваться следующие слова: plus, minus, multiply, divide для, соответственно, сложения, вычитания, умножения и целочисленного деления.\n",
    "\n",
    "Формат ввода:\n",
    "Одна строка, содержащая выражение вида a operator ba operator b, 0≤a,b≤10000≤a,b≤1000. Оператор может быть plus, minus, multiply, divide.\n",
    "\n",
    "Формат вывода:\n",
    "Строка, содержащая целое число −− результат вычисления."
   ]
  },
  {
   "cell_type": "code",
   "execution_count": 1,
   "metadata": {},
   "outputs": [
    {
     "name": "stdout",
     "output_type": "stream",
     "text": [
      "45 minus 13\n"
     ]
    }
   ],
   "source": [
    "s = input()\n",
    "s1 = s.split(' ')"
   ]
  },
  {
   "cell_type": "code",
   "execution_count": 9,
   "metadata": {},
   "outputs": [],
   "source": [
    "s = '42'\n",
    "c = int(s)"
   ]
  },
  {
   "cell_type": "code",
   "execution_count": 10,
   "metadata": {},
   "outputs": [],
   "source": [
    "c = int(str(s[0]))"
   ]
  },
  {
   "cell_type": "code",
   "execution_count": 11,
   "metadata": {},
   "outputs": [
    {
     "name": "stdout",
     "output_type": "stream",
     "text": [
      "4\n"
     ]
    }
   ],
   "source": [
    "print(c)"
   ]
  },
  {
   "cell_type": "code",
   "execution_count": 27,
   "metadata": {},
   "outputs": [
    {
     "name": "stdout",
     "output_type": "stream",
     "text": [
      "3 divide 4\n",
      "0\n"
     ]
    }
   ],
   "source": [
    "from math import floor\n",
    "s = input()\n",
    "s1 = s.split(' ')\n",
    "a = int(str(s1[0]))\n",
    "b = int(str(s1[2]))\n",
    "x = 0\n",
    "if s1[1] == 'plus':\n",
    "    x = a + b\n",
    "    print(int(x))\n",
    "if s1[1] == 'minus':\n",
    "    x = a - b\n",
    "    print(int(x))\n",
    "if s1[1] == 'multiply':\n",
    "    x = a * b\n",
    "    print(x)\n",
    "if s1[1] == 'divide':\n",
    "    if b != 0:\n",
    "        x = a / b\n",
    "        print(floor(x))\n",
    "    else: print('None')\n"
   ]
  },
  {
   "cell_type": "code",
   "execution_count": 19,
   "metadata": {},
   "outputs": [
    {
     "name": "stdout",
     "output_type": "stream",
     "text": [
      "2\n"
     ]
    }
   ],
   "source": [
    "print(s[1])"
   ]
  }
 ],
 "metadata": {
  "kernelspec": {
   "display_name": "Python 3",
   "language": "python",
   "name": "python3"
  },
  "language_info": {
   "codemirror_mode": {
    "name": "ipython",
    "version": 3
   },
   "file_extension": ".py",
   "mimetype": "text/x-python",
   "name": "python",
   "nbconvert_exporter": "python",
   "pygments_lexer": "ipython3",
   "version": "3.6.5"
  }
 },
 "nbformat": 4,
 "nbformat_minor": 2
}
