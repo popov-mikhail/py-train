{
 "cells": [
  {
   "cell_type": "code",
   "execution_count": 6,
   "metadata": {},
   "outputs": [
    {
     "name": "stdout",
     "output_type": "stream",
     "text": [
      "1\n",
      "2\n",
      "3\n"
     ]
    }
   ],
   "source": [
    "from functools import reduce\n",
    "\n",
    "numbers = [\n",
    "    input(),\n",
    "    input()\n",
    "]\n",
    "result = reduce(lambda x, y: x + y, map(lambda i: int(i), numbers))\n",
    "print(result)"
   ]
  },
  {
   "cell_type": "code",
   "execution_count": 42,
   "metadata": {},
   "outputs": [
    {
     "name": "stdout",
     "output_type": "stream",
     "text": [
      "4 5\n",
      "Size of matix: 4 x 5\n"
     ]
    }
   ],
   "source": [
    "s = input()\n",
    "s = s.split(' ')\n",
    "n = int(s[0])\n",
    "m = int(s[1])\n",
    "print ('Size of matix:',n,'x',m)"
   ]
  },
  {
   "cell_type": "code",
   "execution_count": 43,
   "metadata": {},
   "outputs": [
    {
     "name": "stdout",
     "output_type": "stream",
     "text": [
      "0 1 2 3 4 5\n",
      "6 7 8 9 10\n",
      "11 12 13 14 15\n",
      "-1 -2 -3 -4 -5\n"
     ]
    }
   ],
   "source": [
    "matrix = []\n",
    "for i in range(n):\n",
    "    s = input()\n",
    "    numbers = [int(x) for x in s.split(' ')]\n",
    "    matrix.append(numbers)"
   ]
  },
  {
   "cell_type": "code",
   "execution_count": 44,
   "metadata": {},
   "outputs": [
    {
     "name": "stdout",
     "output_type": "stream",
     "text": [
      "[[0, 1, 2, 3, 4, 5], [6, 7, 8, 9, 10], [11, 12, 13, 14, 15], [-1, -2, -3, -4, -5]]\n"
     ]
    }
   ],
   "source": [
    "print (matrix)"
   ]
  },
  {
   "cell_type": "code",
   "execution_count": 45,
   "metadata": {
    "scrolled": true
   },
   "outputs": [
    {
     "name": "stdout",
     "output_type": "stream",
     "text": [
      "5 4\n",
      "-1 11 6 0\n",
      "-2 12 7 1\n",
      "-3 13 8 2\n",
      "-4 14 9 3\n",
      "-5 15 10 4\n"
     ]
    }
   ],
   "source": [
    "print(m,n)\n",
    "for j in range(m):\n",
    "    s = ''\n",
    "    for i in range(n-1,-1,-1):\n",
    "        s = s + str(matrix[i][j])\n",
    "        if (i != 0): s = s + ' '\n",
    "    print(s)"
   ]
  }
 ],
 "metadata": {
  "kernelspec": {
   "display_name": "Python 3",
   "language": "python",
   "name": "python3"
  },
  "language_info": {
   "codemirror_mode": {
    "name": "ipython",
    "version": 3
   },
   "file_extension": ".py",
   "mimetype": "text/x-python",
   "name": "python",
   "nbconvert_exporter": "python",
   "pygments_lexer": "ipython3",
   "version": "3.6.5"
  }
 },
 "nbformat": 4,
 "nbformat_minor": 2
}
